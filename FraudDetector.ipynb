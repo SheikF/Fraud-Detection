{
 "cells": [
  {
   "cell_type": "code",
   "execution_count": 2,
   "id": "d3f42685-b553-4633-a280-f8ae74740254",
   "metadata": {},
   "outputs": [],
   "source": [
    "import numpy as np\n",
    "import pandas as pd\n",
    "import matplotlib\n",
    "from matplotlib import pyplot as plt                          #Importiamo tutte le librerie.\n",
    "import sklearn                  \n",
    "import sklearn.preprocessing as preprocessing\n",
    "import sklearn.model_selection as model_selection\n",
    "import sklearn.metrics as metrics\n",
    "import sklearn.svm as svm\n",
    "from sklearn.preprocessing import MinMaxScaler, StandardScaler\n",
    "from sklearn.linear_model import LogisticRegression\n",
    "from sklearn.model_selection import train_test_split, GridSearchCV\n",
    "from sklearn.metrics import roc_curve, auc, plot_roc_curve, confusion_matrix, accuracy_score, fbeta_score, f1_score, recall_score, precision_score\n",
    "from sklearn.naive_bayes import GaussianNB\n",
    "from sklearn.tree import DecisionTreeClassifier\n",
    "from sklearn.ensemble import RandomForestClassifier\n",
    "import tensorflow as tf\n",
    "from tensorflow import keras\n",
    "from tensorflow.keras import datasets\n",
    "from tensorflow.keras import models\n",
    "from tensorflow.keras import layers\n",
    "from tensorflow.keras import utils\n",
    "from tensorflow.keras import callbacks\n",
    "from tensorflow.keras import regularizers\n",
    "import seaborn as sns\n",
    "import random\n",
    "\n",
    "\n",
    "import warnings\n",
    "warnings.filterwarnings('ignore')"
   ]
  },
  {
   "cell_type": "code",
   "execution_count": 3,
   "id": "57c2b0a7-1804-4230-9055-b60eecb97abe",
   "metadata": {},
   "outputs": [],
   "source": [
    "dataset_path = 'C:/Users/Nando/Desktop/TesiMaster/Fraud Detection/creditcard.csv'\n",
    "\n",
    "data = pd.read_csv(dataset_path, na_values = \" \", comment='\\t', sep=\",\", skipinitialspace=True)\n",
    "\n",
    "#Importo il dataset\n",
    "\n",
    "\n"
   ]
  },
  {
   "cell_type": "code",
   "execution_count": 4,
   "id": "7acfcc39-b603-4547-be0b-af32947692bb",
   "metadata": {},
   "outputs": [],
   "source": [
    "data.drop('Time', inplace = True, axis = 1)\n",
    "#Elimino la variabile Time.(la variabile è solo un contatore impostato a zero per la prima operazione)"
   ]
  },
  {
   "cell_type": "code",
   "execution_count": 5,
   "id": "7c21c3cb-d9dd-4772-86b2-d11504bb4162",
   "metadata": {},
   "outputs": [],
   "source": [
    "Normal = data[data.Class == 0]\n",
    "Fraud = data[data.Class == 1]"
   ]
  },
  {
   "cell_type": "code",
   "execution_count": 6,
   "id": "787ca8e9-ddbe-4c36-93d3-c617679e24a7",
   "metadata": {},
   "outputs": [],
   "source": [
    "train_data = Normal.sample(frac = 0.8, random_state = 8)\n",
    "test_data = Normal.drop(train_data.index)"
   ]
  },
  {
   "cell_type": "code",
   "execution_count": 7,
   "id": "5266864d-a7e4-4747-a5ee-ae2b8de9bfe0",
   "metadata": {},
   "outputs": [],
   "source": [
    "test_data = test_data.append(Fraud) #Visto che le frodi non vengono usate nell'addestramento le assegnamo tutte al test set."
   ]
  },
  {
   "cell_type": "code",
   "execution_count": 8,
   "id": "570528b1-07b0-4f6a-89a6-f8ac86bd8374",
   "metadata": {},
   "outputs": [],
   "source": [
    "train_data.drop('Class', inplace = True, axis = 1)"
   ]
  },
  {
   "cell_type": "code",
   "execution_count": 9,
   "id": "78523e7a-2d48-49a5-932d-e1db3d14e74c",
   "metadata": {},
   "outputs": [],
   "source": [
    "test_data =test_data.sample(frac=1).reset_index(drop=True)\n",
    "train_data = train_data.reset_index(drop = True)"
   ]
  },
  {
   "cell_type": "code",
   "execution_count": 10,
   "id": "6df3bcd9-c5ba-4782-a99c-f574c6ec9331",
   "metadata": {},
   "outputs": [],
   "source": [
    "test_y = test_data.pop(\"Class\")"
   ]
  },
  {
   "cell_type": "code",
   "execution_count": 11,
   "id": "73b4ba01-d2fb-4299-b626-45474315d0b8",
   "metadata": {},
   "outputs": [],
   "source": [
    "#Eseguiamo adesso lo scaling dei dati usando il MinMaxScaler.\n",
    "train_x = train_data.values\n",
    "test_x = test_data.values\n",
    "\n",
    "\n",
    "scaler_x = MinMaxScaler(feature_range=(0,1))  #Scaliamo i dati di training e test utilizzando il MinMax\n",
    "                                              #Facendo delle prove il MinMax ha dato risultati migliori rispetto allo Standard\n",
    "scaler_x.fit(train_x)\n",
    "scaled_train_x = scaler_x.transform(train_x)\n",
    "scaled_test_x = scaler_x.transform(test_x)\n"
   ]
  },
  {
   "cell_type": "code",
   "execution_count": 29,
   "id": "3bf0f8dc-4f04-4df4-906b-49e8fa9b0ce3",
   "metadata": {},
   "outputs": [],
   "source": [
    "\n",
    "#funzione che costruisce un autoencoder\n",
    "\n",
    "def autoencoderbuilder(Input_size, Parametri):\n",
    "        autoencoder = keras.Sequential()\n",
    "        autoencoder.add(layers.Flatten(input_shape=(Input_size, )))\n",
    "        for j in range(Parametri[0]):\n",
    "            autoencoder.add(layers.Dense(units = Parametri[j+1], activation='sigmoid'))\n",
    "\n",
    "        autoencoder.add(layers.Dense(units = Input_size, activation = 'sigmoid'))   \n",
    "        autoencoder.compile(optimizer='adam', loss=\"mse\")\n",
    "        \n",
    "        return autoencoder\n",
    "    "
   ]
  },
  {
   "cell_type": "code",
   "execution_count": 89,
   "id": "521c909c-4996-4816-89ee-5e64cb508946",
   "metadata": {},
   "outputs": [],
   "source": [
    "def validation(x,Input_size, list):\n",
    "    best = np.inf\n",
    "    Model = None\n",
    "    Parametri = None\n",
    "    for i in range(len(list)):\n",
    "        cv = model_selection.KFold(n_splits=5, shuffle = True, random_state = 0)\n",
    "        early_stopping = callbacks.EarlyStopping(monitor='val_loss', verbose=0, patience= 20, restore_best_weights=True)\n",
    "        avg_score = 0\n",
    "        for train_index, test_index in cv.split(x):\n",
    "            model = autoencoderbuilder(Input_size,list[i])\n",
    "            fold_train_x, fold_test_x = x[train_index], x[test_index]\n",
    "            history = model.fit(fold_train_x, fold_train_x,validation_data = (fold_test_x, fold_test_x),callbacks = [early_stopping], batch_size= 32, epochs=100,verbose=0)\n",
    "            score = model.evaluate(fold_test_x, fold_test_x, verbose = 0)\n",
    "            avg_score += score\n",
    "        avg_score = avg_score / 5\n",
    "        if avg_score < best:\n",
    "            best = avg_score\n",
    "            Model = model\n",
    "            Parametri = list[i]\n",
    "        \n",
    "    return history, avg_score, Model, Parametri"
   ]
  },
  {
   "cell_type": "code",
   "execution_count": 103,
   "id": "b5359444-77f9-4e58-bef7-777b88eca161",
   "metadata": {},
   "outputs": [],
   "source": [
    "lista = [[3,20,15,20], [3,25,20,25],[3,25,15,25],[3,20,10,20],[3,25,10,25]]"
   ]
  },
  {
   "cell_type": "code",
   "execution_count": 64,
   "id": "2683424b-4628-4a32-8c7b-7fe94217c2ef",
   "metadata": {},
   "outputs": [],
   "source": [
    "dim = len(train_x[0,:])"
   ]
  },
  {
   "cell_type": "code",
   "execution_count": 90,
   "id": "c2e4df5f-aaed-47ec-9e88-4ec6120f0b20",
   "metadata": {},
   "outputs": [],
   "source": [
    "Storia, Loss, Modello, Parametri = validation(scaled_train_x,dim,lista)"
   ]
  },
  {
   "cell_type": "code",
   "execution_count": 93,
   "id": "34115aee-be63-4106-9461-3a08c39432be",
   "metadata": {},
   "outputs": [
    {
     "data": {
      "image/png": "[encoded data removed]",
      "text/plain": [
       "<Figure size 432x288 with 1 Axes>"
      ]
     },
     "metadata": {
      "needs_background": "light"
     },
     "output_type": "display_data"
    }
   ],
   "source": [
    "plt.plot(Storia.history['loss'], linewidth=2, label='Train')\n",
    "plt.plot(Storia.history['val_loss'], linewidth=2, label='Test')\n",
    "plt.legend(loc='upper right')\n",
    "plt.title('Model loss')             #Plottiamo l'andamento della loss durante l'addestramento.\n",
    "plt.ylabel('Loss')\n",
    "plt.xlabel('Epoch')\n",
    "plt.show()"
   ]
  },
  {
   "cell_type": "code",
   "execution_count": null,
   "id": "e40a1c33-7805-49ef-b862-efdacb135a5b",
   "metadata": {},
   "outputs": [],
   "source": []
  },
  {
   "cell_type": "code",
   "execution_count": null,
   "id": "f8498bb6-c56a-4b75-bd93-00a34e0ee4a1",
   "metadata": {},
   "outputs": [],
   "source": []
  },
  {
   "cell_type": "code",
   "execution_count": null,
   "id": "a59f81b3-8d32-4ed9-aa17-7f7c5e7bd48c",
   "metadata": {},
   "outputs": [],
   "source": []
  },
  {
   "cell_type": "code",
   "execution_count": 14,
   "id": "6d9b0ca7-7b4a-451a-b993-0829f95863ac",
   "metadata": {},
   "outputs": [],
   "source": [
    "test_x_predictions = Modello.predict(scaled_test_x)\n",
    "mse =  tf.keras.losses.mse(test_x_predictions, scaled_test_x)  \n",
    "error_df = pd.DataFrame({'Reconstruction_error': mse,\n",
    "                        'True_class': test_y})                    \n",
    "TrainError = tf.keras.losses.mse(scaled_train_x,Modello.predict(scaled_train_x))\n",
    "\n",
    "#Previsione sul test set e calcolo dell'errore sul training per stabilire la threshold\n"
   ]
  },
  {
   "cell_type": "code",
   "execution_count": 15,
   "id": "e8e555bc-3ed7-42ae-b66e-dd6b04f7dbc7",
   "metadata": {},
   "outputs": [
    {
     "data": {
      "image/png": "[encoded data removed]",
      "text/plain": [
       "<Figure size 432x288 with 1 Axes>"
      ]
     },
     "metadata": {
      "needs_background": "light"
     },
     "output_type": "display_data"
    }
   ],
   "source": [
    "threshold_fixed = np.quantile(TrainError,0.998) #il percentile corrisponde alla percentuale di transazioni fraudolente\n",
    "\n",
    "groups = error_df.groupby('True_class')\n",
    "fig, ax = plt.subplots()\n",
    "for name, group in groups:\n",
    "    ax.plot(group.index, group.Reconstruction_error, marker='o', ms=3.5, linestyle='',\n",
    "            label= \"Fraud\" if name == 1 else \"Normal\")\n",
    "ax.hlines(threshold_fixed, ax.get_xlim()[0], ax.get_xlim()[1], colors=\"r\", zorder=100, label='Threshold')\n",
    "ax.legend()\n",
    "plt.title(\"Reconstruction error for test data\")\n",
    "plt.ylabel(\"Reconstruction error\")                               \n",
    "plt.xlabel(\"Data point index\")\n",
    "plt.show();\n"
   ]
  },
  {
   "cell_type": "code",
   "execution_count": 16,
   "id": "3ccae4b6-3e5c-427a-9726-e5f7744837c9",
   "metadata": {},
   "outputs": [
    {
     "data": {
      "image/png": "[encoded data removed]",
      "text/plain": [
       "<Figure size 288x288 with 2 Axes>"
      ]
     },
     "metadata": {
      "needs_background": "light"
     },
     "output_type": "display_data"
    },
    {
     "name": "stdout",
     "output_type": "stream",
     "text": [
      " Accuracy:  0.9957457937407375\n",
      " Recall:  0.741869918699187\n",
      " Precision:  0.7572614107883817\n",
      " F1:  0.7494866529774128\n"
     ]
    }
   ],
   "source": [
    "pred_y = [1 if e > threshold_fixed else 0 for e in error_df.Reconstruction_error.values]\n",
    "error_df['pred'] =pred_y\n",
    "conf_matrix = confusion_matrix(error_df.True_class, pred_y)\n",
    "plt.figure(figsize=(4, 4))\n",
    "sns.heatmap(conf_matrix, annot=True, fmt=\"d\");\n",
    "plt.title(\"Confusion matrix\")\n",
    "plt.ylabel('True class')                       #Quantificazione prestazioni del modello nel classificare le transazioni.\n",
    "plt.xlabel('Predicted class')\n",
    "plt.show()\n",
    "# print Accuracy, precision and recall\n",
    "print(\" Accuracy: \",accuracy_score(error_df['True_class'], error_df['pred']))\n",
    "print(\" Recall: \",recall_score(error_df['True_class'], error_df['pred']))\n",
    "print(\" Precision: \",precision_score(error_df['True_class'], error_df['pred']))\n",
    "print(\" F1: \",f1_score(error_df['True_class'], error_df['pred']))"
   ]
  },
  {
   "cell_type": "code",
   "execution_count": 72,
   "id": "85a0d389-617a-420f-909f-c397a678c388",
   "metadata": {},
   "outputs": [
    {
     "name": "stdout",
     "output_type": "stream",
     "text": [
      "INFO:tensorflow:Assets written to: Autoencoder\\assets\n"
     ]
    }
   ],
   "source": [
    "Modello.save(\"Autoencoder\")"
   ]
  },
  {
   "cell_type": "code",
   "execution_count": 13,
   "id": "4f61138d-266b-42f6-9e35-27684c001249",
   "metadata": {},
   "outputs": [],
   "source": [
    "Modello = keras.models.load_model(\"Autoencoder\")"
   ]
  },
  {
   "cell_type": "code",
   "execution_count": null,
   "id": "d311f4ae-6e8f-4792-9d23-99d515f00a9d",
   "metadata": {},
   "outputs": [],
   "source": []
  },
  {
   "cell_type": "code",
   "execution_count": null,
   "id": "31f3f62e-285d-472d-b4da-c39c5e98f2d2",
   "metadata": {},
   "outputs": [],
   "source": []
  },
  {
   "cell_type": "code",
   "execution_count": null,
   "id": "c64ace98-b687-4cb0-993b-0affaf7098bd",
   "metadata": {},
   "outputs": [],
   "source": []
  },
  {
   "cell_type": "code",
   "execution_count": null,
   "id": "ae2c52bf-b997-43e6-b4f1-bf0a5614fb30",
   "metadata": {},
   "outputs": [],
   "source": []
  },
  {
   "cell_type": "code",
   "execution_count": null,
   "id": "06a14886-285e-47fc-a254-96459a8b35cb",
   "metadata": {},
   "outputs": [],
   "source": []
  },
  {
   "cell_type": "code",
   "execution_count": null,
   "id": "9eeab0c4-9e6e-463b-92b7-c2aed2f6c2b9",
   "metadata": {},
   "outputs": [],
   "source": []
  },
  {
   "cell_type": "code",
   "execution_count": null,
   "id": "5fd17b72-f316-4995-a33c-1cc2f9038a49",
   "metadata": {},
   "outputs": [],
   "source": []
  }
 ],
 "metadata": {
  "kernelspec": {
   "display_name": "Python 3 (ipykernel)",
   "language": "python",
   "name": "python3"
  },
  "language_info": {
   "codemirror_mode": {
    "name": "ipython",
    "version": 3
   },
   "file_extension": ".py",
   "mimetype": "text/x-python",
   "name": "python",
   "nbconvert_exporter": "python",
   "pygments_lexer": "ipython3",
   "version": "3.9.7"
  }
 },
 "nbformat": 4,
 "nbformat_minor": 5
}
